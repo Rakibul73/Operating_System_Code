{
 "cells": [
  {
   "cell_type": "code",
   "execution_count": null,
   "metadata": {},
   "outputs": [],
   "source": [
    "import threading\n",
    "import time\n",
    "import random\n",
    "\n",
    "NUM_PHILOSOPHERS = 5\n",
    "chopsticks = [threading.Semaphore(1) for _ in range(NUM_PHILOSOPHERS)]\n",
    "\n",
    "def philosopher(philosopher_id):\n",
    "    # Get the left and right chopsticks for the philosopher\n",
    "    left_chopstick = chopsticks[philosopher_id]\n",
    "    right_chopstick = chopsticks[(philosopher_id + 1) % NUM_PHILOSOPHERS]\n",
    "\n",
    "    while True:\n",
    "        # Thinking\n",
    "        print(f\"Philosopher {philosopher_id} is thinking.\")\n",
    "        time.sleep(random.random())\n",
    "\n",
    "        # Pick up left chopstick\n",
    "        left_chopstick.acquire()\n",
    "        print(f\"Philosopher {philosopher_id} picked up the left chopstick.\")\n",
    "\n",
    "        # Try to pick up right chopstick without blocking\n",
    "        if right_chopstick.acquire(blocking=False):\n",
    "            # Pick up right chopstick and start eating\n",
    "            print(f\"Philosopher {philosopher_id} picked up the right chopstick.\")\n",
    "            print(f\"Philosopher {philosopher_id} is eating.\")\n",
    "            time.sleep(random.random())\n",
    "\n",
    "            # Release right chopstick after eating\n",
    "            right_chopstick.release()\n",
    "            print(f\"Philosopher {philosopher_id} put down the right chopstick.\")\n",
    "        \n",
    "        # Release left chopstick after eating or if right chopstick is not available\n",
    "        left_chopstick.release()\n",
    "        print(f\"Philosopher {philosopher_id} put down the left chopstick.\")\n",
    "\n",
    "if __name__ == \"__main__\":\n",
    "    # Create philosopher threads and start them\n",
    "    philosophers = [threading.Thread(target=philosopher, args=(i,)) for i in range(NUM_PHILOSOPHERS)]\n",
    "    for p in philosophers:\n",
    "        p.start()\n",
    "\n",
    "    # Wait for all philosopher threads to complete\n",
    "    for p in philosophers:\n",
    "        p.join()\n"
   ]
  }
 ],
 "metadata": {
  "kernelspec": {
   "display_name": "Python 3",
   "language": "python",
   "name": "python3"
  },
  "language_info": {
   "codemirror_mode": {
    "name": "ipython",
    "version": 3
   },
   "file_extension": ".py",
   "mimetype": "text/x-python",
   "name": "python",
   "nbconvert_exporter": "python",
   "pygments_lexer": "ipython3",
   "version": "3.11.0"
  },
  "orig_nbformat": 4
 },
 "nbformat": 4,
 "nbformat_minor": 2
}
