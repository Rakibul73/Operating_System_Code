{
 "cells": [
  {
   "cell_type": "code",
   "execution_count": null,
   "metadata": {},
   "outputs": [],
   "source": [
    "import threading\n",
    "\n",
    "# Initialize the mutex lock\n",
    "mutex = threading.Lock()\n",
    "\n",
    "# Function to demonstrate using the mutex lock\n",
    "def protected_critical_section(name):\n",
    "    # Acquire the mutex lock to protect the critical section\n",
    "    mutex.acquire()\n",
    "    try:\n",
    "        # Critical section code here\n",
    "        print(f\"{name} is in the critical section.\")\n",
    "    finally:\n",
    "        # Release the mutex lock after the critical section is done\n",
    "        mutex.release()\n",
    "\n",
    "# Create two threads to demonstrate using the mutex lock\n",
    "thread1 = threading.Thread(target=protected_critical_section, args=(\"Thread 1\",))\n",
    "thread2 = threading.Thread(target=protected_critical_section, args=(\"Thread 2\",))\n",
    "\n",
    "# Start the threads\n",
    "thread1.start()\n",
    "thread2.start()\n",
    "\n",
    "# Wait for both threads to finish\n",
    "thread1.join()\n",
    "thread2.join()\n",
    "\n",
    "print(\"All threads finished.\")\n"
   ]
  }
 ],
 "metadata": {
  "kernelspec": {
   "display_name": "Python 3",
   "language": "python",
   "name": "python3"
  },
  "language_info": {
   "codemirror_mode": {
    "name": "ipython",
    "version": 3
   },
   "file_extension": ".py",
   "mimetype": "text/x-python",
   "name": "python",
   "nbconvert_exporter": "python",
   "pygments_lexer": "ipython3",
   "version": "3.11.0"
  },
  "orig_nbformat": 4
 },
 "nbformat": 4,
 "nbformat_minor": 2
}
